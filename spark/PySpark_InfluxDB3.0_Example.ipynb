{
 "cells": [
  {
   "cell_type": "markdown",
   "id": "6aab03f2",
   "metadata": {},
   "source": [
    "# PySpark InfluxDB Cloud 3.0 Example\n",
    "## This notebook highlights how to use some baisc features of PySpark with Apache Arrow to query InfluxDB Cloud 3.0 including:\n",
    "1. How to query InfluxDB Cloud and create a DataFrame with PySpark.\n",
    "2. Use SQL to work with your PySpark DataFrame. \n",
    "3. How to convert a DataFrame to Parquet file for interopability with other analytics and visualization tools. \n",
    "4. Convert the PySpark DataFrame back to a Pandas DataFrame to plot the data.\n",
    "5. Perform multiple linear regression with PySpark. "
   ]
  },
  {
   "cell_type": "markdown",
   "id": "e2080de3",
   "metadata": {},
   "source": [
    "### 1. How to query InfluxDB Cloud and create a DataFrame with PySpark."
   ]
  },
  {
   "cell_type": "code",
   "execution_count": 1,
   "id": "f0f930b5",
   "metadata": {},
   "outputs": [
    {
     "name": "stderr",
     "output_type": "stream",
     "text": [
      "SLF4J: Failed to load class \"org.slf4j.impl.StaticLoggerBinder\".\n",
      "SLF4J: Defaulting to no-operation (NOP) logger implementation\n",
      "SLF4J: See http://www.slf4j.org/codes.html#StaticLoggerBinder for further details.\n",
      "SLF4J: Failed to load class \"org.slf4j.impl.StaticMDCBinder\".\n",
      "SLF4J: Defaulting to no-operation MDCAdapter implementation.\n",
      "SLF4J: See http://www.slf4j.org/codes.html#no_static_mdc_binder for further details.\n",
      "                                                                                \r"
     ]
    },
    {
     "name": "stdout",
     "output_type": "stream",
     "text": [
      "+-------------------+------------------+---------+-----------------+-------------------+\n",
      "|                 co|          humidity|sensor_id|      temperature|               time|\n",
      "+-------------------+------------------+---------+-----------------+-------------------+\n",
      "| 0.5047632965896885| 35.14689785107976|  TLM0100|71.17324638495792|2023-05-10 11:42:13|\n",
      "|0.48574816144255967| 35.10277318754259|  TLM0100|71.18518720926225|2023-05-10 11:42:23|\n",
      "| 0.4891706306734725| 35.09675959695416|  TLM0100|71.21165391273382|2023-05-10 11:42:33|\n",
      "|  0.495955495344953|35.099787209237526|  TLM0100|71.19013040886232|2023-05-10 11:42:43|\n",
      "|0.49015286051386625|35.148041125814515|  TLM0100|71.23016638005292|2023-05-10 11:42:53|\n",
      "| 0.4820252893254982| 35.18612764673006|  TLM0100|71.25244081747653|2023-05-10 11:43:03|\n",
      "|  0.482821930445517| 35.16352520033809|  TLM0100|71.22481920637077|2023-05-10 11:43:13|\n",
      "|0.46740900452974365| 35.17663373156463|  TLM0100|71.26207102074494|2023-05-10 11:43:23|\n",
      "| 0.4771466795067598|35.156418757609096|  TLM0100|71.24429491694639|2023-05-10 11:43:33|\n",
      "| 0.4961114412612093|35.140610637206684|  TLM0100|71.27863965851674|2023-05-10 11:43:43|\n",
      "+-------------------+------------------+---------+-----------------+-------------------+\n",
      "\n"
     ]
    }
   ],
   "source": [
    "from flightsql import FlightSQLClient\n",
    "from pyspark.sql import SparkSession\n",
    "import os\n",
    "os.environ['PYSPARK_SUBMIT_ARGS'] = '--jars /path/to/slf4j-nop.jar pyspark-shell'\n",
    "\n",
    "# 1. Gather authentication credentials.\n",
    "token = \"JUy..XXX\"\n",
    "url = \"us-east-1-1.aws.cloud2.influxdata.com\"\n",
    "database = \"noaa\"\n",
    "query = f\"SELECT * FROM 'measurementName'\"\n",
    "\n",
    "# 2. Instantiate the FlightSQL Client\n",
    "client = FlightSQLClient(\n",
    "    host= url,\n",
    "    token= token,\n",
    "    metadata={'database': database},\n",
    "    features={'metadata-reflection': 'true'}\n",
    ")\n",
    "\n",
    "# 3. Execute a query against InfluxDB's Flight SQL endpoint\n",
    "query = client.execute(\"SELECT * FROM 'airSensors' LIMIT 10\")\n",
    "\n",
    "# 4. Create reader to consume result\n",
    "reader = client.do_get(query.endpoints[0].ticket)\n",
    "\n",
    "# 5. Read all data into a PyArrow.Table\n",
    "table = reader.read_all()\n",
    "\n",
    "# 6. Convert to PySpark DataFrame\n",
    "# master(master) sets the Spark master URL to connect to, such as \"local\" to run locally,\n",
    "# and \"local[*]\" to run locally with all cores, or use \"spark://master:7077\" to run on the Spark standalone cluster.\n",
    "spark = SparkSession.builder.appName(\"FlightSQL with PySpark\") \\\n",
    "        .master(\"local[*]\") \\\n",
    "        .getOrCreate()\n",
    "df = spark.createDataFrame(table.to_pandas())\n",
    "\n",
    "# 7. Show the DataFrame\n",
    "df.show()\n"
   ]
  },
  {
   "cell_type": "markdown",
   "id": "76fca539",
   "metadata": {},
   "source": [
    "### 2.  Use SQL to work with your PySpark DataFrame. "
   ]
  },
  {
   "cell_type": "code",
   "execution_count": 2,
   "id": "a73af686",
   "metadata": {},
   "outputs": [
    {
     "name": "stdout",
     "output_type": "stream",
     "text": [
      "+--------+\n",
      "|count(1)|\n",
      "+--------+\n",
      "|      10|\n",
      "+--------+\n",
      "\n"
     ]
    }
   ],
   "source": [
    "# DataFrame and Spark SQL share the same execution engine so they can be interchangeably used seamlessly. \n",
    "# For example, you can register the DataFrame as a table and run a SQL easily as below:\n",
    "df.createOrReplaceTempView(\"dfView\")\n",
    "spark.sql(\"SELECT count(*) from dfView\").show()"
   ]
  },
  {
   "cell_type": "markdown",
   "id": "9a7f3a98",
   "metadata": {},
   "source": [
    "See the following repo for how to convert Parquet to a hyper file to uplaod the files into Tableau for further analysis and forecasting:\n",
    "[Tableau_InfluxDBCloud_IOx](https://github.com/InfluxCommunity/Tableau_InfluxDBCloud_IOx) "
   ]
  },
  {
   "cell_type": "markdown",
   "id": "d861b49a",
   "metadata": {},
   "source": [
    "### 4. Convert the PySpark DataFrame back to a Pandas DataFrame to plot the data."
   ]
  },
  {
   "cell_type": "code",
   "execution_count": 3,
   "id": "de10e541",
   "metadata": {},
   "outputs": [
    {
     "data": {
      "image/png": "[encoded data removed]",
      "text/plain": [
       "<Figure size 432x288 with 1 Axes>"
      ]
     },
     "metadata": {
      "needs_background": "light"
     },
     "output_type": "display_data"
    }
   ],
   "source": [
    "import matplotlib.pyplot as plt\n",
    "import seaborn as sns\n",
    "\n",
    "# Convert to pandas DataFrame for plotting\n",
    "pandas_df = df.toPandas()\n",
    "\n",
    "# Make a plot with seaborn to graph temperature values from sensor TLM0100. \n",
    "# We only selected 10 points but if we had selected more points with multple sensors this would graph them as well.\n",
    "sns.set_style('darkgrid')\n",
    "sns.set(rc={'figure.figsize':(14,8)})\n",
    "\n",
    "ax = sns.lineplot(data=pandas_df.reset_index(), x ='time', y = 'temperature',\n",
    "                  hue='sensor_id', palette='viridis',\n",
    "                  legend='full', lw=3)\n",
    "\n",
    "plt.legend(bbox_to_anchor=(1, 1))\n",
    "plt.ylabel('Temperature')\n",
    "plt.xlabel('Time')\n",
    "plt.xticks(rotation=45)\n",
    "plt.show()"
   ]
  },
  {
   "cell_type": "markdown",
   "id": "e4973502",
   "metadata": {},
   "source": [
    "### 5. Perform multiple linear regression with PySpark. "
   ]
  },
  {
   "cell_type": "code",
   "execution_count": 4,
   "id": "e7ebeaea",
   "metadata": {},
   "outputs": [
    {
     "name": "stdout",
     "output_type": "stream",
     "text": [
      "root\n",
      " |-- co: double (nullable = true)\n",
      " |-- humidity: double (nullable = true)\n",
      " |-- sensor_id: string (nullable = true)\n",
      " |-- temperature: double (nullable = true)\n",
      " |-- time: timestamp (nullable = true)\n",
      "\n"
     ]
    }
   ],
   "source": [
    "from pyspark.sql import SparkSession\n",
    "from pyspark.ml.regression import LinearRegression\n",
    "from pyspark.ml.feature import VectorAssembler\n",
    "\n",
    "# Read the Data set and print the Schema:\n",
    "df.printSchema()"
   ]
  },
  {
   "cell_type": "code",
   "execution_count": 5,
   "id": "4339e988",
   "metadata": {},
   "outputs": [
    {
     "name": "stderr",
     "output_type": "stream",
     "text": [
      "                                                                                \r"
     ]
    },
    {
     "name": "stdout",
     "output_type": "stream",
     "text": [
      "+--------------------+-----------------+-----------------+\n",
      "|Independent Features|      temperature|       prediction|\n",
      "+--------------------+-----------------+-----------------+\n",
      "|[0.48917063067347...|71.21165391273382|71.21165391273658|\n",
      "|[0.49015286051386...|71.23016638005292|71.23016638005325|\n",
      "|[0.48202528932549...|71.25244081747653|71.25244081747515|\n",
      "|[0.48282193044551...|71.22481920637077|71.22481920636778|\n",
      "+--------------------+-----------------+-----------------+\n",
      "\n"
     ]
    }
   ],
   "source": [
    "# Using VectorAssembler. \n",
    "# VectorAssembler is a transformer that creates a single vector column from a list of input columns.\n",
    "\n",
    "featureassembler = VectorAssembler (inputCols = \\\n",
    "                                    [\"co\",\"humidity\", \"temperature\"], \\\n",
    "                                    outputCol = \"Independent Features\")\n",
    "\n",
    "output = featureassembler.transform(df)\n",
    "\n",
    "# Selecting the input and output columns:\n",
    "finalised_data = output.select(\"Independent Features\", \"temperature\")\n",
    "# Splitting the data:\n",
    "train_data, test_data = finalised_data.randomSplit([0.75, 0.25])\n",
    "# Fit the model:\n",
    "regressor = LinearRegression(featuresCol = 'Independent Features', labelCol = 'temperature')\n",
    "regressor = regressor.fit(train_data)\n",
    "# Predict:\n",
    "pred_results = regressor.evaluate(test_data)\n",
    "pred_results.predictions.show()"
   ]
  },
  {
   "cell_type": "code",
   "execution_count": 6,
   "id": "7bea9b8e",
   "metadata": {},
   "outputs": [
    {
     "name": "stdout",
     "output_type": "stream",
     "text": [
      "+--------------------+-----------------+-----------------+\n",
      "|Independent Features|      temperature|       prediction|\n",
      "+--------------------+-----------------+-----------------+\n",
      "|[0.48917063067347...|71.21165391273382|71.21165391273658|\n",
      "|[0.49015286051386...|71.23016638005292|71.23016638005325|\n",
      "|[0.48202528932549...|71.25244081747653|71.25244081747515|\n",
      "|[0.48282193044551...|71.22481920637077|71.22481920636778|\n",
      "+--------------------+-----------------+-----------------+\n",
      "\n"
     ]
    }
   ],
   "source": [
    "pred_results = regressor.evaluate(test_data)\n",
    "pred_results.predictions.show()"
   ]
  },
  {
   "cell_type": "markdown",
   "id": "159d622c",
   "metadata": {},
   "source": [
    "The example and code above is taken from: (Linear Regression with Pyspark in 10 steps)[https://medium.com/featurepreneur/linear-regression-with-pyspark-in-10-steps-c6b3263a2c4]"
   ]
  },
  {
   "cell_type": "markdown",
   "id": "bbd73996",
   "metadata": {},
   "source": [
    "### 3. Get and Read Parquet"
   ]
  },
  {
   "cell_type": "markdown",
   "id": "94cabd29",
   "metadata": {},
   "source": [
    "Parquet files are a compressed columnar data format. Parquet files take very little disk space and are very fast to scan because they are column-oriented and the file format is well designed to support fast filtering. Parquet files are 16 times cheaper than CSV files. The ability to convert data from InfluxDB into Parquet offers interoperability with other tools that have Parquet support like: Tableau, PowerBI, Athena, Snowflake, DataBricks, Spark, and more.  "
   ]
  },
  {
   "cell_type": "code",
   "execution_count": 7,
   "id": "e4d051e5",
   "metadata": {},
   "outputs": [
    {
     "name": "stderr",
     "output_type": "stream",
     "text": [
      "/usr/local/lib/python3.9/site-packages/pyspark/pandas/__init__.py:50: UserWarning: 'PYARROW_IGNORE_TIMEZONE' environment variable was not set. It is required to set this environment variable to '1' in both driver and executor sides if you use pyarrow>=2.0.0. pandas-on-Spark will set it for you but it does not work if there is a Spark context already launched.\n",
      "  warnings.warn(\n"
     ]
    }
   ],
   "source": [
    "# Parquet is an efficient and compact file format to read and write faster. \n",
    "# See here to write a Parquet file:\n",
    "from pyspark import pandas as ps\n",
    "pandas_df.to_parquet('noaa.parquet')\n",
    "# Stop PySpark\n",
    "spark.stop()"
   ]
  }
 ],
 "metadata": {
  "kernelspec": {
   "display_name": "Python 3 (ipykernel)",
   "language": "python",
   "name": "python3"
  },
  "language_info": {
   "codemirror_mode": {
    "name": "ipython",
    "version": 3
   },
   "file_extension": ".py",
   "mimetype": "text/x-python",
   "name": "python",
   "nbconvert_exporter": "python",
   "pygments_lexer": "ipython3",
   "version": "3.9.10"
  }
 },
 "nbformat": 4,
 "nbformat_minor": 5
}
